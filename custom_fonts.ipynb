{
 "cells": [
  {
   "cell_type": "markdown",
   "metadata": {},
   "source": [
    "# Installing a font from a .ttf file\n",
    "(Taken from https://scentellegher.github.io/visualization/2018/05/02/custom-fonts-matplotlib.html)"
   ]
  },
  {
   "cell_type": "code",
   "execution_count": 1,
   "metadata": {},
   "outputs": [
    {
     "name": "stdout",
     "output_type": "stream",
     "text": [
      "--2021-11-12 18:58:25--  https://en.bestfonts.pro/fonts_files/5d83b35f2f8879a3f9baf46d/files/DecimaMonoX.ttf\n",
      "SSL_INIT\n",
      "Loaded CA certificate '/etc/ssl/certs/ca-certificates.crt'\n",
      "Resolving en.bestfonts.pro (en.bestfonts.pro)... 45.159.188.30\n",
      "Connecting to en.bestfonts.pro (en.bestfonts.pro)|45.159.188.30|:443... connected.\n",
      "HTTP request sent, awaiting response... 200 OK\n",
      "Length: 50544 (49K) [font/ttf]\n",
      "Saving to: ‘DecimaMonoX.ttf.1’\n",
      "\n",
      "DecimaMonoX.ttf.1   100%[===================>]  49.36K  --.-KB/s    in 0.1s    \n",
      "\n",
      "2021-11-12 18:58:26 (339 KB/s) - ‘DecimaMonoX.ttf.1’ saved [50544/50544]\n",
      "\n"
     ]
    }
   ],
   "source": [
    "!wget https://en.bestfonts.pro/fonts_files/5d83b35f2f8879a3f9baf46d/files/DecimaMonoX.ttf"
   ]
  },
  {
   "cell_type": "code",
   "execution_count": 2,
   "metadata": {},
   "outputs": [],
   "source": [
    "from matplotlib import font_manager\n",
    "\n",
    "font_dirs = ['./']  # specify the path where your .ttf file is stored\n",
    "font_files = font_manager.findSystemFonts(fontpaths=font_dirs)\n",
    "\n",
    "for font_file in font_files:\n",
    "    font_manager.fontManager.addfont(font_file)\n",
    "\n",
    "# check that the font is loaded\n",
    "# print(font_manager.fontManager.ttflist)"
   ]
  },
  {
   "cell_type": "code",
   "execution_count": 3,
   "metadata": {},
   "outputs": [],
   "source": [
    "import matplotlib as mpl"
   ]
  },
  {
   "cell_type": "code",
   "execution_count": 4,
   "metadata": {},
   "outputs": [],
   "source": [
    "mpl.rcParams[\"text.usetex\"] =  False  # make sure usetex is off"
   ]
  },
  {
   "cell_type": "code",
   "execution_count": 5,
   "metadata": {},
   "outputs": [],
   "source": [
    "#mpl.rcParams[\"font.family\"] = \"Decima Mono X\"  # set this if you want to set it globally"
   ]
  },
  {
   "cell_type": "code",
   "execution_count": 6,
   "metadata": {},
   "outputs": [
    {
     "data": {
      "text/plain": [
       "Text(0, 0.5, 'Type')"
      ]
     },
     "execution_count": 6,
     "metadata": {},
     "output_type": "execute_result"
    },
    {
     "data": {
      "image/png": "[encoded data removed]",
      "text/plain": [
       "<Figure size 504x288 with 1 Axes>"
      ]
     },
     "metadata": {
      "needs_background": "light"
     },
     "output_type": "display_data"
    }
   ],
   "source": [
    "import matplotlib.pyplot as plt\n",
    "import pandas as pd\n",
    "\n",
    "df = pd.DataFrame({'perc': pd.Series([45, 35, 10, 5, 3, 2], index=['A', 'B', 'C','D','E','F'])})\n",
    "\n",
    "fig, ax = plt.subplots(figsize=(7,4))\n",
    "df.iloc[::-1].plot(kind='barh', legend = False, ax=ax)\n",
    "\n",
    "ax.set_xlabel('Percentage',fontsize=15, fontname=\"Decima Mono X\")\n",
    "ax.set_ylabel('Type',fontsize=15)  # use default font for ylabel"
   ]
  },
  {
   "cell_type": "code",
   "execution_count": null,
   "metadata": {},
   "outputs": [],
   "source": []
  }
 ],
 "metadata": {
  "kernelspec": {
   "display_name": "Python 3",
   "language": "python",
   "name": "python3"
  },
  "language_info": {
   "codemirror_mode": {
    "name": "ipython",
    "version": 3
   },
   "file_extension": ".py",
   "mimetype": "text/x-python",
   "name": "python",
   "nbconvert_exporter": "python",
   "pygments_lexer": "ipython3",
   "version": "3.8.5"
  }
 },
 "nbformat": 4,
 "nbformat_minor": 4
}
